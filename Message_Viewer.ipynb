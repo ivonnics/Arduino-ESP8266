{
  "nbformat": 4,
  "nbformat_minor": 0,
  "metadata": {
    "colab": {
      "name": "Message Viewer.ipynb",
      "version": "0.3.2",
      "provenance": [],
      "collapsed_sections": [],
      "include_colab_link": true
    },
    "kernelspec": {
      "name": "python3",
      "display_name": "Python 3"
    }
  },
  "cells": [
    {
      "cell_type": "markdown",
      "metadata": {
        "id": "view-in-github",
        "colab_type": "text"
      },
      "source": [
        "<a href=\"https://colab.research.google.com/github/ivonnics/Arduino-ESP8266/blob/master/Message_Viewer.ipynb\" target=\"_parent\"><img src=\"https://colab.research.google.com/assets/colab-badge.svg\" alt=\"Open In Colab\"/></a>"
      ]
    },
    {
      "cell_type": "code",
      "metadata": {
        "id": "nE1-18qFhLtv",
        "colab_type": "code",
        "colab": {
          "base_uri": "https://localhost:8080/",
          "height": 323
        },
        "outputId": "b5638b59-55a4-4e91-d764-334b1825bf07"
      },
      "source": [
        "import pandas as pd\n",
        "import numpy as np\n",
        "import matplotlib.pyplot as plt\n",
        "import seaborn as sns\n",
        "df=pd.read_csv('CSV_Messages_5083339136Modified.csv')\n",
        "print(df.shape)\n",
        "print(df.dtypes)\n",
        "df.head()"
      ],
      "execution_count": 763,
      "outputs": [
        {
          "output_type": "stream",
          "text": [
            "(180, 5)\n",
            "Date           object\n",
            "Time           object\n",
            "Destination    object\n",
            "Number         object\n",
            "Direction      object\n",
            "dtype: object\n"
          ],
          "name": "stdout"
        },
        {
          "output_type": "execute_result",
          "data": {
            "text/html": [
              "<div>\n",
              "<style scoped>\n",
              "    .dataframe tbody tr th:only-of-type {\n",
              "        vertical-align: middle;\n",
              "    }\n",
              "\n",
              "    .dataframe tbody tr th {\n",
              "        vertical-align: top;\n",
              "    }\n",
              "\n",
              "    .dataframe thead th {\n",
              "        text-align: right;\n",
              "    }\n",
              "</style>\n",
              "<table border=\"1\" class=\"dataframe\">\n",
              "  <thead>\n",
              "    <tr style=\"text-align: right;\">\n",
              "      <th></th>\n",
              "      <th>Date</th>\n",
              "      <th>Time</th>\n",
              "      <th>Destination</th>\n",
              "      <th>Number</th>\n",
              "      <th>Direction</th>\n",
              "    </tr>\n",
              "  </thead>\n",
              "  <tbody>\n",
              "    <tr>\n",
              "      <th>0</th>\n",
              "      <td>5/28/2019</td>\n",
              "      <td>8:48 AM</td>\n",
              "      <td>--</td>\n",
              "      <td>(508) 333-9132</td>\n",
              "      <td>Outgoing</td>\n",
              "    </tr>\n",
              "    <tr>\n",
              "      <th>1</th>\n",
              "      <td>5/26/2019</td>\n",
              "      <td>11:20 PM</td>\n",
              "      <td>NATICK, MA</td>\n",
              "      <td>(508) 333-9132</td>\n",
              "      <td>Incoming</td>\n",
              "    </tr>\n",
              "    <tr>\n",
              "      <th>2</th>\n",
              "      <td>5/26/2019</td>\n",
              "      <td>11:20 PM</td>\n",
              "      <td>NATICK, MA</td>\n",
              "      <td>(508) 333-9132</td>\n",
              "      <td>Outgoing</td>\n",
              "    </tr>\n",
              "    <tr>\n",
              "      <th>3</th>\n",
              "      <td>5/26/2019</td>\n",
              "      <td>11:20 PM</td>\n",
              "      <td>NATICK, MA</td>\n",
              "      <td>(508) 333-9132</td>\n",
              "      <td>Incoming</td>\n",
              "    </tr>\n",
              "    <tr>\n",
              "      <th>4</th>\n",
              "      <td>5/26/2019</td>\n",
              "      <td>11:20 PM</td>\n",
              "      <td>NATICK, MA</td>\n",
              "      <td>(508) 333-9132</td>\n",
              "      <td>Incoming</td>\n",
              "    </tr>\n",
              "  </tbody>\n",
              "</table>\n",
              "</div>"
            ],
            "text/plain": [
              "        Date      Time Destination          Number Direction\n",
              "0  5/28/2019   8:48 AM          --  (508) 333-9132  Outgoing\n",
              "1  5/26/2019  11:20 PM  NATICK, MA  (508) 333-9132  Incoming\n",
              "2  5/26/2019  11:20 PM  NATICK, MA  (508) 333-9132  Outgoing\n",
              "3  5/26/2019  11:20 PM  NATICK, MA  (508) 333-9132  Incoming\n",
              "4  5/26/2019  11:20 PM  NATICK, MA  (508) 333-9132  Incoming"
            ]
          },
          "metadata": {
            "tags": []
          },
          "execution_count": 763
        }
      ]
    },
    {
      "cell_type": "code",
      "metadata": {
        "id": "cnkNxx70rt8Q",
        "colab_type": "code",
        "colab": {
          "base_uri": "https://localhost:8080/",
          "height": 283
        },
        "outputId": "4786318d-a4fa-4ecd-c7fc-c8dd02edb568"
      },
      "source": [
        "ax = sns.countplot(x=\"Direction\", data=df)"
      ],
      "execution_count": 764,
      "outputs": [
        {
          "output_type": "display_data",
          "data": {
            "image/png": "[encoded data removed]",
            "text/plain": [
              "<Figure size 432x288 with 1 Axes>"
            ]
          },
          "metadata": {
            "tags": []
          }
        }
      ]
    },
    {
      "cell_type": "code",
      "metadata": {
        "id": "1P9XwegVSNdq",
        "colab_type": "code",
        "colab": {
          "base_uri": "https://localhost:8080/",
          "height": 283
        },
        "outputId": "94c5ada3-7d22-41cd-c99d-7a8c2fa33729"
      },
      "source": [
        "ax = sns.countplot(x=\"Number\", data=df)"
      ],
      "execution_count": 765,
      "outputs": [
        {
          "output_type": "display_data",
          "data": {
            "image/png": "[encoded data removed]",
            "text/plain": [
              "<Figure size 432x288 with 1 Axes>"
            ]
          },
          "metadata": {
            "tags": []
          }
        }
      ]
    },
    {
      "cell_type": "code",
      "metadata": {
        "id": "MAa-SP2vPBWb",
        "colab_type": "code",
        "colab": {
          "base_uri": "https://localhost:8080/",
          "height": 357
        },
        "outputId": "b6273964-416b-4e67-f34f-10946bf09d5a"
      },
      "source": [
        "df.Number.value_counts()"
      ],
      "execution_count": 766,
      "outputs": [
        {
          "output_type": "execute_result",
          "data": {
            "text/plain": [
              "(508) 333-9132    111\n",
              "(862) 371-0629     16\n",
              "(508) 726-2762      8\n",
              "(617) 640-3697      5\n",
              "(508) 333-9134      5\n",
              "8  2932             5\n",
              "(508) 816-0513      5\n",
              "2  3177             5\n",
              "(774) 810-2385      4\n",
              "(617) 939-7805      4\n",
              "(787) 371-8601      3\n",
              "(857) 207-9988      2\n",
              "(617) 820-8939      1\n",
              "(617) 922-6905      1\n",
              "9101                1\n",
              "(617) 794-7846      1\n",
              "(617) 875-4460      1\n",
              "(508) 958-8437      1\n",
              "(201) 803-9272      1\n",
              "Name: Number, dtype: int64"
            ]
          },
          "metadata": {
            "tags": []
          },
          "execution_count": 766
        }
      ]
    },
    {
      "cell_type": "code",
      "metadata": {
        "id": "hc-zjhrUmeCY",
        "colab_type": "code",
        "colab": {
          "base_uri": "https://localhost:8080/",
          "height": 221
        },
        "outputId": "0b68eaca-0ec5-483a-ce98-96f39099a0e9"
      },
      "source": [
        "df=df[df.Number == '(508) 726-2762']\n",
        "print(df.shape)\n",
        "df.head()"
      ],
      "execution_count": 767,
      "outputs": [
        {
          "output_type": "stream",
          "text": [
            "(8, 5)\n"
          ],
          "name": "stdout"
        },
        {
          "output_type": "execute_result",
          "data": {
            "text/html": [
              "<div>\n",
              "<style scoped>\n",
              "    .dataframe tbody tr th:only-of-type {\n",
              "        vertical-align: middle;\n",
              "    }\n",
              "\n",
              "    .dataframe tbody tr th {\n",
              "        vertical-align: top;\n",
              "    }\n",
              "\n",
              "    .dataframe thead th {\n",
              "        text-align: right;\n",
              "    }\n",
              "</style>\n",
              "<table border=\"1\" class=\"dataframe\">\n",
              "  <thead>\n",
              "    <tr style=\"text-align: right;\">\n",
              "      <th></th>\n",
              "      <th>Date</th>\n",
              "      <th>Time</th>\n",
              "      <th>Destination</th>\n",
              "      <th>Number</th>\n",
              "      <th>Direction</th>\n",
              "    </tr>\n",
              "  </thead>\n",
              "  <tbody>\n",
              "    <tr>\n",
              "      <th>143</th>\n",
              "      <td>5/12/2019</td>\n",
              "      <td>11:39 AM</td>\n",
              "      <td>MARLBORO, MA</td>\n",
              "      <td>(508) 726-2762</td>\n",
              "      <td>Incoming</td>\n",
              "    </tr>\n",
              "    <tr>\n",
              "      <th>145</th>\n",
              "      <td>5/12/2019</td>\n",
              "      <td>11:36 AM</td>\n",
              "      <td>MARLBORO, MA</td>\n",
              "      <td>(508) 726-2762</td>\n",
              "      <td>Incoming</td>\n",
              "    </tr>\n",
              "    <tr>\n",
              "      <th>147</th>\n",
              "      <td>5/12/2019</td>\n",
              "      <td>11:21 AM</td>\n",
              "      <td>MARLBORO, MA</td>\n",
              "      <td>(508) 726-2762</td>\n",
              "      <td>Incoming</td>\n",
              "    </tr>\n",
              "    <tr>\n",
              "      <th>148</th>\n",
              "      <td>5/12/2019</td>\n",
              "      <td>11:21 AM</td>\n",
              "      <td>MARLBORO, MA</td>\n",
              "      <td>(508) 726-2762</td>\n",
              "      <td>Incoming</td>\n",
              "    </tr>\n",
              "    <tr>\n",
              "      <th>149</th>\n",
              "      <td>5/12/2019</td>\n",
              "      <td>11:20 AM</td>\n",
              "      <td>MARLBORO, MA</td>\n",
              "      <td>(508) 726-2762</td>\n",
              "      <td>Incoming</td>\n",
              "    </tr>\n",
              "  </tbody>\n",
              "</table>\n",
              "</div>"
            ],
            "text/plain": [
              "          Date      Time   Destination          Number Direction\n",
              "143  5/12/2019  11:39 AM  MARLBORO, MA  (508) 726-2762  Incoming\n",
              "145  5/12/2019  11:36 AM  MARLBORO, MA  (508) 726-2762  Incoming\n",
              "147  5/12/2019  11:21 AM  MARLBORO, MA  (508) 726-2762  Incoming\n",
              "148  5/12/2019  11:21 AM  MARLBORO, MA  (508) 726-2762  Incoming\n",
              "149  5/12/2019  11:20 AM  MARLBORO, MA  (508) 726-2762  Incoming"
            ]
          },
          "metadata": {
            "tags": []
          },
          "execution_count": 767
        }
      ]
    },
    {
      "cell_type": "code",
      "metadata": {
        "id": "Qp173y3WBFRc",
        "colab_type": "code",
        "colab": {
          "base_uri": "https://localhost:8080/",
          "height": 493
        },
        "outputId": "5525f6b6-a397-45a5-9300-483116a93012"
      },
      "source": [
        "dataset1=[pd.to_datetime(hour, format=\"%I:%M %p\", errors=\"coerce\") for hour in df['Time']]\n",
        "#dataset1=[pd.to_datetime(hour, format=\"%I:%M:%S %p\", errors=\"coerce\") for hour in df['Time']]\n",
        "dataset2=pd.Series(dataset1).dt.hour\n",
        "dataset3={'Hour': dataset2}\n",
        "dataset4=pd.DataFrame(dataset3, columns = ['Hour'])\n",
        "df.reset_index(inplace=True)\n",
        "print('XXXXXXXXXXXXXXXXXXXXXXXXXXXXXXXXXXXXXXXXXXXXXXXXXXXXXXXXXXXXXXXX')\n",
        "print(dataset4.shape)\n",
        "print(dataset4.head())\n",
        "print(df.shape)\n",
        "print(df.head())\n",
        "print('XXXXXXXXXXXXXXXXXXXXXXXXXXXXXXXXXXXXXXXXXXXXXXXXXXXXXXXXXXXXXXXX')\n",
        "df_new1= pd.concat([df, dataset4], axis=1)\n",
        "print(df_new1.shape)\n",
        "df_new1.head()"
      ],
      "execution_count": 768,
      "outputs": [
        {
          "output_type": "stream",
          "text": [
            "XXXXXXXXXXXXXXXXXXXXXXXXXXXXXXXXXXXXXXXXXXXXXXXXXXXXXXXXXXXXXXXX\n",
            "(8, 1)\n",
            "   Hour\n",
            "0    11\n",
            "1    11\n",
            "2    11\n",
            "3    11\n",
            "4    11\n",
            "(8, 6)\n",
            "   index       Date      Time   Destination          Number Direction\n",
            "0    143  5/12/2019  11:39 AM  MARLBORO, MA  (508) 726-2762  Incoming\n",
            "1    145  5/12/2019  11:36 AM  MARLBORO, MA  (508) 726-2762  Incoming\n",
            "2    147  5/12/2019  11:21 AM  MARLBORO, MA  (508) 726-2762  Incoming\n",
            "3    148  5/12/2019  11:21 AM  MARLBORO, MA  (508) 726-2762  Incoming\n",
            "4    149  5/12/2019  11:20 AM  MARLBORO, MA  (508) 726-2762  Incoming\n",
            "XXXXXXXXXXXXXXXXXXXXXXXXXXXXXXXXXXXXXXXXXXXXXXXXXXXXXXXXXXXXXXXX\n",
            "(8, 7)\n"
          ],
          "name": "stdout"
        },
        {
          "output_type": "execute_result",
          "data": {
            "text/html": [
              "<div>\n",
              "<style scoped>\n",
              "    .dataframe tbody tr th:only-of-type {\n",
              "        vertical-align: middle;\n",
              "    }\n",
              "\n",
              "    .dataframe tbody tr th {\n",
              "        vertical-align: top;\n",
              "    }\n",
              "\n",
              "    .dataframe thead th {\n",
              "        text-align: right;\n",
              "    }\n",
              "</style>\n",
              "<table border=\"1\" class=\"dataframe\">\n",
              "  <thead>\n",
              "    <tr style=\"text-align: right;\">\n",
              "      <th></th>\n",
              "      <th>index</th>\n",
              "      <th>Date</th>\n",
              "      <th>Time</th>\n",
              "      <th>Destination</th>\n",
              "      <th>Number</th>\n",
              "      <th>Direction</th>\n",
              "      <th>Hour</th>\n",
              "    </tr>\n",
              "  </thead>\n",
              "  <tbody>\n",
              "    <tr>\n",
              "      <th>0</th>\n",
              "      <td>143</td>\n",
              "      <td>5/12/2019</td>\n",
              "      <td>11:39 AM</td>\n",
              "      <td>MARLBORO, MA</td>\n",
              "      <td>(508) 726-2762</td>\n",
              "      <td>Incoming</td>\n",
              "      <td>11</td>\n",
              "    </tr>\n",
              "    <tr>\n",
              "      <th>1</th>\n",
              "      <td>145</td>\n",
              "      <td>5/12/2019</td>\n",
              "      <td>11:36 AM</td>\n",
              "      <td>MARLBORO, MA</td>\n",
              "      <td>(508) 726-2762</td>\n",
              "      <td>Incoming</td>\n",
              "      <td>11</td>\n",
              "    </tr>\n",
              "    <tr>\n",
              "      <th>2</th>\n",
              "      <td>147</td>\n",
              "      <td>5/12/2019</td>\n",
              "      <td>11:21 AM</td>\n",
              "      <td>MARLBORO, MA</td>\n",
              "      <td>(508) 726-2762</td>\n",
              "      <td>Incoming</td>\n",
              "      <td>11</td>\n",
              "    </tr>\n",
              "    <tr>\n",
              "      <th>3</th>\n",
              "      <td>148</td>\n",
              "      <td>5/12/2019</td>\n",
              "      <td>11:21 AM</td>\n",
              "      <td>MARLBORO, MA</td>\n",
              "      <td>(508) 726-2762</td>\n",
              "      <td>Incoming</td>\n",
              "      <td>11</td>\n",
              "    </tr>\n",
              "    <tr>\n",
              "      <th>4</th>\n",
              "      <td>149</td>\n",
              "      <td>5/12/2019</td>\n",
              "      <td>11:20 AM</td>\n",
              "      <td>MARLBORO, MA</td>\n",
              "      <td>(508) 726-2762</td>\n",
              "      <td>Incoming</td>\n",
              "      <td>11</td>\n",
              "    </tr>\n",
              "  </tbody>\n",
              "</table>\n",
              "</div>"
            ],
            "text/plain": [
              "   index       Date      Time   Destination          Number Direction  Hour\n",
              "0    143  5/12/2019  11:39 AM  MARLBORO, MA  (508) 726-2762  Incoming    11\n",
              "1    145  5/12/2019  11:36 AM  MARLBORO, MA  (508) 726-2762  Incoming    11\n",
              "2    147  5/12/2019  11:21 AM  MARLBORO, MA  (508) 726-2762  Incoming    11\n",
              "3    148  5/12/2019  11:21 AM  MARLBORO, MA  (508) 726-2762  Incoming    11\n",
              "4    149  5/12/2019  11:20 AM  MARLBORO, MA  (508) 726-2762  Incoming    11"
            ]
          },
          "metadata": {
            "tags": []
          },
          "execution_count": 768
        }
      ]
    },
    {
      "cell_type": "code",
      "metadata": {
        "id": "4yNry2BhDyAr",
        "colab_type": "code",
        "colab": {
          "base_uri": "https://localhost:8080/",
          "height": 586
        },
        "outputId": "d9a41ee7-7f77-43f4-8122-5349cbf9217c"
      },
      "source": [
        "dataset5=[pd.to_datetime(weekday, format=\"%m/%d/%Y\", errors=\"coerce\") for weekday in df['Date']]\n",
        "\n",
        "\n",
        "dataset6=pd.Series(dataset5).dt.weekday_name\n",
        "dataset7={'Weekday': dataset6}\n",
        "\n",
        "dataset8=pd.DataFrame(dataset7, columns = ['Weekday'])\n",
        "print('XXXXXXXXXXXXXXXXXXXXXXXXXXXXXXXXXXXXXXXXXXXXXXXXXXXXXXXXXXXXXXXX')\n",
        "print(dataset8.shape)\n",
        "print(dataset8.head())\n",
        "print(df_new1.shape)\n",
        "print(df_new1.head())\n",
        "print('XXXXXXXXXXXXXXXXXXXXXXXXXXXXXXXXXXXXXXXXXXXXXXXXXXXXXXXXXXXXXXXX')\n",
        "\n",
        "df_new2= pd.concat([df_new1, dataset8], axis=1)\n",
        "print(df_new2.shape)\n",
        "df_new2.head(10)"
      ],
      "execution_count": 769,
      "outputs": [
        {
          "output_type": "stream",
          "text": [
            "XXXXXXXXXXXXXXXXXXXXXXXXXXXXXXXXXXXXXXXXXXXXXXXXXXXXXXXXXXXXXXXX\n",
            "(8, 1)\n",
            "  Weekday\n",
            "0  Sunday\n",
            "1  Sunday\n",
            "2  Sunday\n",
            "3  Sunday\n",
            "4  Sunday\n",
            "(8, 7)\n",
            "   index       Date      Time   Destination          Number Direction  Hour\n",
            "0    143  5/12/2019  11:39 AM  MARLBORO, MA  (508) 726-2762  Incoming    11\n",
            "1    145  5/12/2019  11:36 AM  MARLBORO, MA  (508) 726-2762  Incoming    11\n",
            "2    147  5/12/2019  11:21 AM  MARLBORO, MA  (508) 726-2762  Incoming    11\n",
            "3    148  5/12/2019  11:21 AM  MARLBORO, MA  (508) 726-2762  Incoming    11\n",
            "4    149  5/12/2019  11:20 AM  MARLBORO, MA  (508) 726-2762  Incoming    11\n",
            "XXXXXXXXXXXXXXXXXXXXXXXXXXXXXXXXXXXXXXXXXXXXXXXXXXXXXXXXXXXXXXXX\n",
            "(8, 8)\n"
          ],
          "name": "stdout"
        },
        {
          "output_type": "execute_result",
          "data": {
            "text/html": [
              "<div>\n",
              "<style scoped>\n",
              "    .dataframe tbody tr th:only-of-type {\n",
              "        vertical-align: middle;\n",
              "    }\n",
              "\n",
              "    .dataframe tbody tr th {\n",
              "        vertical-align: top;\n",
              "    }\n",
              "\n",
              "    .dataframe thead th {\n",
              "        text-align: right;\n",
              "    }\n",
              "</style>\n",
              "<table border=\"1\" class=\"dataframe\">\n",
              "  <thead>\n",
              "    <tr style=\"text-align: right;\">\n",
              "      <th></th>\n",
              "      <th>index</th>\n",
              "      <th>Date</th>\n",
              "      <th>Time</th>\n",
              "      <th>Destination</th>\n",
              "      <th>Number</th>\n",
              "      <th>Direction</th>\n",
              "      <th>Hour</th>\n",
              "      <th>Weekday</th>\n",
              "    </tr>\n",
              "  </thead>\n",
              "  <tbody>\n",
              "    <tr>\n",
              "      <th>0</th>\n",
              "      <td>143</td>\n",
              "      <td>5/12/2019</td>\n",
              "      <td>11:39 AM</td>\n",
              "      <td>MARLBORO, MA</td>\n",
              "      <td>(508) 726-2762</td>\n",
              "      <td>Incoming</td>\n",
              "      <td>11</td>\n",
              "      <td>Sunday</td>\n",
              "    </tr>\n",
              "    <tr>\n",
              "      <th>1</th>\n",
              "      <td>145</td>\n",
              "      <td>5/12/2019</td>\n",
              "      <td>11:36 AM</td>\n",
              "      <td>MARLBORO, MA</td>\n",
              "      <td>(508) 726-2762</td>\n",
              "      <td>Incoming</td>\n",
              "      <td>11</td>\n",
              "      <td>Sunday</td>\n",
              "    </tr>\n",
              "    <tr>\n",
              "      <th>2</th>\n",
              "      <td>147</td>\n",
              "      <td>5/12/2019</td>\n",
              "      <td>11:21 AM</td>\n",
              "      <td>MARLBORO, MA</td>\n",
              "      <td>(508) 726-2762</td>\n",
              "      <td>Incoming</td>\n",
              "      <td>11</td>\n",
              "      <td>Sunday</td>\n",
              "    </tr>\n",
              "    <tr>\n",
              "      <th>3</th>\n",
              "      <td>148</td>\n",
              "      <td>5/12/2019</td>\n",
              "      <td>11:21 AM</td>\n",
              "      <td>MARLBORO, MA</td>\n",
              "      <td>(508) 726-2762</td>\n",
              "      <td>Incoming</td>\n",
              "      <td>11</td>\n",
              "      <td>Sunday</td>\n",
              "    </tr>\n",
              "    <tr>\n",
              "      <th>4</th>\n",
              "      <td>149</td>\n",
              "      <td>5/12/2019</td>\n",
              "      <td>11:20 AM</td>\n",
              "      <td>MARLBORO, MA</td>\n",
              "      <td>(508) 726-2762</td>\n",
              "      <td>Incoming</td>\n",
              "      <td>11</td>\n",
              "      <td>Sunday</td>\n",
              "    </tr>\n",
              "    <tr>\n",
              "      <th>5</th>\n",
              "      <td>150</td>\n",
              "      <td>5/12/2019</td>\n",
              "      <td>11:20 AM</td>\n",
              "      <td>MARLBORO, MA</td>\n",
              "      <td>(508) 726-2762</td>\n",
              "      <td>Incoming</td>\n",
              "      <td>11</td>\n",
              "      <td>Sunday</td>\n",
              "    </tr>\n",
              "    <tr>\n",
              "      <th>6</th>\n",
              "      <td>151</td>\n",
              "      <td>5/12/2019</td>\n",
              "      <td>11:20 AM</td>\n",
              "      <td>MARLBORO, MA</td>\n",
              "      <td>(508) 726-2762</td>\n",
              "      <td>Incoming</td>\n",
              "      <td>11</td>\n",
              "      <td>Sunday</td>\n",
              "    </tr>\n",
              "    <tr>\n",
              "      <th>7</th>\n",
              "      <td>158</td>\n",
              "      <td>5/12/2019</td>\n",
              "      <td>11:00 AM</td>\n",
              "      <td>--</td>\n",
              "      <td>(508) 726-2762</td>\n",
              "      <td>Outgoing</td>\n",
              "      <td>11</td>\n",
              "      <td>Sunday</td>\n",
              "    </tr>\n",
              "  </tbody>\n",
              "</table>\n",
              "</div>"
            ],
            "text/plain": [
              "   index       Date      Time  ... Direction Hour Weekday\n",
              "0    143  5/12/2019  11:39 AM  ...  Incoming   11  Sunday\n",
              "1    145  5/12/2019  11:36 AM  ...  Incoming   11  Sunday\n",
              "2    147  5/12/2019  11:21 AM  ...  Incoming   11  Sunday\n",
              "3    148  5/12/2019  11:21 AM  ...  Incoming   11  Sunday\n",
              "4    149  5/12/2019  11:20 AM  ...  Incoming   11  Sunday\n",
              "5    150  5/12/2019  11:20 AM  ...  Incoming   11  Sunday\n",
              "6    151  5/12/2019  11:20 AM  ...  Incoming   11  Sunday\n",
              "7    158  5/12/2019  11:00 AM  ...  Outgoing   11  Sunday\n",
              "\n",
              "[8 rows x 8 columns]"
            ]
          },
          "metadata": {
            "tags": []
          },
          "execution_count": 769
        }
      ]
    },
    {
      "cell_type": "code",
      "metadata": {
        "id": "DqWuemd1thl1",
        "colab_type": "code",
        "colab": {
          "base_uri": "https://localhost:8080/",
          "height": 68
        },
        "outputId": "cf526c7e-2a3d-40dc-e2e8-b4d9d8cea385"
      },
      "source": [
        "df['Direction'].value_counts()"
      ],
      "execution_count": 770,
      "outputs": [
        {
          "output_type": "execute_result",
          "data": {
            "text/plain": [
              "Incoming    7\n",
              "Outgoing    1\n",
              "Name: Direction, dtype: int64"
            ]
          },
          "metadata": {
            "tags": []
          },
          "execution_count": 770
        }
      ]
    },
    {
      "cell_type": "code",
      "metadata": {
        "id": "pkve2nJA7N6D",
        "colab_type": "code",
        "colab": {
          "base_uri": "https://localhost:8080/",
          "height": 283
        },
        "outputId": "61f4ba08-2f8d-460c-c872-3c02bc3100e7"
      },
      "source": [
        "ax = sns.countplot(x=\"Direction\", data=df)"
      ],
      "execution_count": 771,
      "outputs": [
        {
          "output_type": "display_data",
          "data": {
            "image/png": "[encoded data removed]",
            "text/plain": [
              "<Figure size 432x288 with 1 Axes>"
            ]
          },
          "metadata": {
            "tags": []
          }
        }
      ]
    },
    {
      "cell_type": "code",
      "metadata": {
        "id": "n60AP51UEQEc",
        "colab_type": "code",
        "colab": {
          "base_uri": "https://localhost:8080/",
          "height": 283
        },
        "outputId": "b56688f0-d35c-4282-a904-28d475d2c190"
      },
      "source": [
        "ax = sns.countplot(x=\"Weekday\", data=df_new2)"
      ],
      "execution_count": 772,
      "outputs": [
        {
          "output_type": "display_data",
          "data": {
            "image/png": "[encoded data removed]",
            "text/plain": [
              "<Figure size 432x288 with 1 Axes>"
            ]
          },
          "metadata": {
            "tags": []
          }
        }
      ]
    },
    {
      "cell_type": "code",
      "metadata": {
        "id": "b7fKkyo0Edyi",
        "colab_type": "code",
        "colab": {
          "base_uri": "https://localhost:8080/",
          "height": 283
        },
        "outputId": "e7f8f429-cc7d-4f14-c710-6a5508460fe8"
      },
      "source": [
        "ax = sns.countplot(x=\"Hour\", data=df_new2)"
      ],
      "execution_count": 773,
      "outputs": [
        {
          "output_type": "display_data",
          "data": {
            "image/png": "[encoded data removed]",
            "text/plain": [
              "<Figure size 432x288 with 1 Axes>"
            ]
          },
          "metadata": {
            "tags": []
          }
        }
      ]
    },
    {
      "cell_type": "code",
      "metadata": {
        "id": "pzlHIbHlFZ7C",
        "colab_type": "code",
        "colab": {
          "base_uri": "https://localhost:8080/",
          "height": 2374
        },
        "outputId": "7157765e-1c95-4d76-b4b8-3c5406d3c9f6"
      },
      "source": [
        "df_new2['Madrugada'] = np.where((df_new2['Hour']>=0) & (df_new2['Hour']<6), 1, 0)\n",
        "df_new2['Mañana'] = np.where((df_new2['Hour']>=6) & (df_new2['Hour']<12), 1, 0)\n",
        "df_new2['Tarde'] = np.where((df_new2['Hour']>=12) & (df_new2['Hour']<18), 1, 0)\n",
        "df_new2['Noche'] = np.where((df_new2['Hour']>=18) & (df_new2['Hour']<24), 1, 0)\n",
        "df_new2['Lunes'] = np.where((df_new2['Weekday']=='Monday'), 1, 0)\n",
        "df_new2['Martes'] = np.where((df_new2['Weekday']=='Tuesday'), 1, 0)\n",
        "df_new2['Miércoles'] = np.where((df_new2['Weekday']=='Wednesday'), 1, 0)\n",
        "df_new2['Jueves'] = np.where((df_new2['Weekday']=='Thursday'), 1, 0)\n",
        "df_new2['Viernes'] = np.where((df_new2['Weekday']=='Friday'), 1, 0)\n",
        "df_new2['Sábado'] = np.where((df_new2['Weekday']=='Saturday'), 1, 0)\n",
        "df_new2['Domingo'] = np.where((df_new2['Weekday']=='Sunday'), 1, 0)\n",
        "\n",
        "\n",
        "print(df_new2.shape)\n",
        "print(df_new2.head(20))\n",
        "\n",
        "\n",
        "df_new3=df_new2[['Lunes', 'Martes', 'Miércoles', 'Jueves', 'Viernes', 'Sábado',\n",
        "                 'Domingo', 'Madrugada', 'Mañana', 'Tarde', 'Noche']]\n",
        "\n",
        "#Analysis\n",
        "print(df_new3.shape)\n",
        "print(df_new3.head(20))\n",
        "print(df.describe())\n",
        "print(df_new2.groupby('Weekday').size())\n",
        "print(df_new3.groupby('Madrugada').size())\n",
        "print(df_new3.groupby('Mañana').size())\n",
        "print(df_new3.groupby('Tarde').size())\n",
        "print(df_new3.groupby('Noche').size())\n",
        "#print(df_new3.groupby('Volume').size())\n",
        "\n",
        "#MONDAY:\n",
        "dfLunesMadrugada = df_new2.loc[(df_new2['Weekday']=='Monday') & (df_new2['Hour']>=0) & (df_new2['Hour']<6), ['Date', 'Time', 'Volume','Weekday' ]]\n",
        "print('dfLunesMadrugada')\n",
        "print(len(dfLunesMadrugada))\n",
        "\n",
        "print('AverageLunesMadrugada')\n",
        "print(dfLunesMadrugada.Date.value_counts())\n",
        "AverageLunesMadrugada = float(len(dfLunesMadrugada))\n",
        "print(AverageLunesMadrugada)\n",
        "\n",
        "dfLunesMañana = df_new2.loc[(df_new2['Weekday']=='Monday') & (df_new2['Hour']>=6) & (df_new2['Hour']<12), ['Date', 'Time', 'Volume', 'Weekday']]\n",
        "#print('dfLunesMañana')\n",
        "#print(dfLunesMañana)\n",
        "\n",
        "print('AverageLunesMañana')\n",
        "AverageLunesMañana = float(len(dfLunesMañana))\n",
        "print(AverageLunesMañana)\n",
        "\n",
        "dfLunesTarde = df_new2.loc[(df_new2['Weekday']=='Monday') & (df_new2['Hour']>=12) & (df_new2['Hour']<18), ['Date', 'Time', 'Volume', 'Weekday']]\n",
        "#print('dfLunesTarde')\n",
        "#print(dfLunesTarde)\n",
        "\n",
        "print('AverageLunesTarde')\n",
        "AverageLunesTarde = float(len(dfLunesTarde))\n",
        "print(AverageLunesTarde)\n",
        "\n",
        "dfLunesNoche = df_new2.loc[(df_new2['Weekday']=='Monday') & (df_new2['Hour']>=18) & (df_new2['Hour']<24), ['Date', 'Time', 'Volume', 'Weekday']]\n",
        "#print('dfLunesNoche')\n",
        "#print(dfLunesNoche)\n",
        "\n",
        "print('AverageLunesNoche')\n",
        "AverageLunesNoche = float(len(dfLunesNoche))\n",
        "print(AverageLunesNoche)\n",
        "\n",
        "\n",
        "#TUESDAY:\n",
        "dfMartesMadrugada = df_new2.loc[(df_new2['Weekday']=='Tuesday') & (df_new2['Hour']>=0) & (df_new2['Hour']<6), ['Date', 'Time', 'Volume', 'Weekday']]\n",
        "#print('dfMartesMadrugada')\n",
        "#print(dfMartesMadrugada)\n",
        "\n",
        "print('AverageMartesMadrugada')\n",
        "AverageMartesMadrugada = len(dfMartesMadrugada)\n",
        "print(AverageMartesMadrugada)\n",
        "\n",
        "dfMartesMañana = df_new2.loc[(df_new2['Weekday']=='Tuesday') & (df_new2['Hour']>=6) & (df_new2['Hour']<12), ['Date', 'Time', 'Volume', 'Weekday']]\n",
        "#print('dfMartesMañana')\n",
        "#print(dfMartesMañana)\n",
        "\n",
        "print('AverageMartesMañana')\n",
        "AverageMartesMañana = len(dfMartesMañana)\n",
        "print(AverageMartesMañana)\n",
        "\n",
        "dfMartesTarde = df_new2.loc[(df_new2['Weekday']=='Tuesday') & (df_new2['Hour']>=12) & (df_new2['Hour']<18), ['Date', 'Time', 'Volume', 'Weekday']]\n",
        "#print('dfMartesTarde')\n",
        "#print(dfMartesTarde)\n",
        "\n",
        "print('AverageMartesTarde')\n",
        "AverageMartesTarde = len(dfMartesTarde)\n",
        "print(AverageMartesTarde)\n",
        "\n",
        "dfMartesNoche = df_new2.loc[(df_new2['Weekday']=='Tuesday') & (df_new2['Hour']>=18) & (df_new2['Hour']<24), ['Date', 'Time', 'Volume', 'Weekday']]\n",
        "#print('dfMartesNoche')\n",
        "#print(dfMartesNoche)\n",
        "\n",
        "print('AverageMartesNoche')\n",
        "AverageMartesNoche = len(dfMartesNoche)\n",
        "print(AverageMartesNoche)\n",
        "\n",
        "\n",
        "#WEDNESDAY:\n",
        "dfMiércolesMadrugada = df_new2.loc[(df_new2['Weekday']=='Wednesday') & (df_new2['Hour']>=0) & (df_new2['Hour']<6), ['Date', 'Time', 'Volume', 'Weekday']]\n",
        "#print('dfMiércolesMadrugada')\n",
        "#print(dfMiércolesMadrugada)\n",
        "\n",
        "print('AverageMiércolesMadrugada')\n",
        "AverageMiércolesMadrugada = len(dfMiércolesMadrugada)\n",
        "print(AverageMiércolesMadrugada)\n",
        "\n",
        "\n",
        "dfMiércolesMañana = df_new2.loc[(df_new2['Weekday']=='Wednesday') & (df_new2['Hour']>=6) & (df_new2['Hour']<12), ['Date', 'Time', 'Volume', 'Weekday']]\n",
        "#print('dfMiércolessMañana')\n",
        "#print(dfMiércolesMañana)\n",
        "\n",
        "print('AverageMiércolesMañana')\n",
        "AverageMiércolesMañana = len(dfMiércolesMañana)\n",
        "print(AverageMiércolesMañana)\n",
        "\n",
        "dfMiércolesTarde = df_new2.loc[(df_new2['Weekday']=='Wednesday') & (df_new2['Hour']>=12) & (df_new2['Hour']<18), ['Date', 'Time', 'Volume', 'Weekday']]\n",
        "#print('dfMiércolesTarde')\n",
        "#print(dfMiércolesTarde)\n",
        "\n",
        "print('AverageMiércolesTarde')\n",
        "AverageMiércolesTarde = len(dfMiércolesTarde)\n",
        "print(AverageMiércolesTarde)\n",
        "\n",
        "\n",
        "dfMiércolesNoche = df_new2.loc[(df_new2['Weekday']=='Wednesday') & (df_new2['Hour']>=18) & (df_new2['Hour']<24), ['Date', 'Time', 'Volume', 'Weekday']]\n",
        "#print('dfMiércolesNoche')\n",
        "#print(dfMiércolesNoche)\n",
        "\n",
        "print('AverageMiércolesNoche')\n",
        "AverageMiércolesNoche = len(dfMiércolesNoche)\n",
        "print(AverageMiércolesNoche)\n",
        "\n",
        "\n",
        "#THURSDAY:\n",
        "dfJuevesMadrugada = df_new2.loc[(df_new2['Weekday']=='Thursday') & (df_new2['Hour']>=0) & (df_new2['Hour']<6), ['Date', 'Time', 'Volume', 'Weekday']]\n",
        "#print('dfJuevesMadrugada')\n",
        "#print(dfJuevesMadrugada)\n",
        "\n",
        "print('AverageJuevesMadrugada')\n",
        "AverageJuevesMadrugada = len(dfJuevesMadrugada)\n",
        "print(AverageJuevesMadrugada)\n",
        "\n",
        "\n",
        "dfJuevesMañana = df_new2.loc[(df_new2['Weekday']=='Thursday') & (df_new2['Hour']>=6) & (df_new2['Hour']<12), ['Date', 'Time', 'Volume', 'Weekday']]\n",
        "#print('dfJuevessMañana')\n",
        "#print(dfJuevesMañana)\n",
        "\n",
        "print('AverageJuevesMañana')\n",
        "AverageJuevesMañana = len(dfJuevesMañana)\n",
        "print(AverageJuevesMañana)\n",
        "\n",
        "dfJuevesTarde = df_new2.loc[(df_new2['Weekday']=='Thursday') & (df_new2['Hour']>=12) & (df_new2['Hour']<18), ['Date', 'Time', 'Volume', 'Weekday']]\n",
        "#print('dfJuevesTarde')\n",
        "#print(dfJuevesTarde)\n",
        "\n",
        "print('AverageJuevesTarde')\n",
        "AverageJuevesTarde = len(dfJuevesTarde)\n",
        "print(AverageJuevesTarde)\n",
        "\n",
        "dfJuevesNoche = df_new2.loc[(df_new2['Weekday']=='Thursday') & (df_new2['Hour']>=18) & (df_new2['Hour']<24), ['Date', 'Time', 'Volume', 'Weekday']]\n",
        "#print('dfJuevesNoche')\n",
        "#print(dfJuevesNoche)\n",
        "\n",
        "print('AverageJuevesNoche')\n",
        "AverageJuevesNoche = len(dfJuevesNoche)\n",
        "print(AverageJuevesNoche)\n",
        "\n",
        "\n",
        "#FRIDAY:\n",
        "dfViernesMadrugada = df_new2.loc[(df_new2['Weekday']=='Friday') & (df_new2['Hour']>=0) & (df_new2['Hour']<6), ['Date', 'Time', 'Volume', 'Weekday']]\n",
        "#print('dfViernesMadrugada')\n",
        "#print(dfViernesMadrugada)\n",
        "\n",
        "print('AverageViernesMadrugada')\n",
        "AverageViernesMadrugada = len(dfViernesMadrugada)\n",
        "print(AverageViernesMadrugada)\n",
        "\n",
        "dfViernesMañana = df_new2.loc[(df_new2['Weekday']=='Friday') & (df_new2['Hour']>=6) & (df_new2['Hour']<12), ['Date', 'Time', 'Volume', 'Weekday']]\n",
        "#print('dfViernessMañana')\n",
        "#print(dfViernesMañana)\n",
        "\n",
        "print('AverageViernesMañana')\n",
        "AverageViernesMañana = len(dfViernesMañana)\n",
        "print(AverageViernesMañana)\n",
        "\n",
        "dfViernesTarde = df_new2.loc[(df_new2['Weekday']=='Friday') & (df_new2['Hour']>=12) & (df_new2['Hour']<18), ['Date', 'Time', 'Volume', 'Weekday']]\n",
        "#print('dfViernesTarde')\n",
        "#print(dfViernesTarde)\n",
        "\n",
        "print('AverageViernesTarde')\n",
        "AverageViernesTarde = len(dfViernesTarde)\n",
        "print(AverageViernesTarde)\n",
        "\n",
        "dfViernesNoche = df_new2.loc[(df_new2['Weekday']=='Friday') & (df_new2['Hour']>=18) & (df_new2['Hour']<24), ['Date', 'Time', 'Volume', 'Weekday']]\n",
        "#print('dfViernesNoche')\n",
        "#print(dfViernesNoche)\n",
        "\n",
        "print('AverageViernesNoche')\n",
        "AverageViernesNoche = len(dfViernesNoche)\n",
        "print(AverageViernesNoche)\n",
        "\n",
        "\n",
        "#SATURDAY:\n",
        "dfSábadoMadrugada = df_new2.loc[(df_new2['Weekday']=='Saturday') & (df_new2['Hour']>=0) & (df_new2['Hour']<6), ['Date', 'Time', 'Volume', 'Weekday']]\n",
        "#print('dfSábadoMadrugada')\n",
        "#print(dfSábadoMadrugada)\n",
        "\n",
        "print('AverageSábadoMadrugada')\n",
        "AverageSábadoMadrugada = len(dfSábadoMadrugada)\n",
        "print(AverageSábadoMadrugada)\n",
        "\n",
        "dfSábadoMañana = df_new2.loc[(df_new2['Weekday']=='Saturday') & (df_new2['Hour']>=6) & (df_new2['Hour']<12), ['Date', 'Time', 'Volume', 'Weekday']]\n",
        "#print('dfSábadoMañana')\n",
        "#print(dfSábadoMañana)\n",
        "\n",
        "print('AverageSábadoMañana')\n",
        "AverageSábadoMañana = len(dfSábadoMañana)\n",
        "print(AverageSábadoMañana)\n",
        "\n",
        "dfSábadoTarde = df_new2.loc[(df_new2['Weekday']=='Saturday') & (df_new2['Hour']>=12) & (df_new2['Hour']<18), ['Date', 'Time', 'Volume', 'Weekday']]\n",
        "#print('dfSábadoTarde')\n",
        "#print(dfSábadoTarde)\n",
        "\n",
        "print('AverageSábadoTarde')\n",
        "AverageSábadoTarde = len(dfSábadoTarde)\n",
        "print(AverageSábadoTarde)\n",
        "\n",
        "dfSábadoNoche = df_new2.loc[(df_new2['Weekday']=='Saturday') & (df_new2['Hour']>=18) & (df_new2['Hour']<24), ['Date', 'Time', 'Volume', 'Weekday']]\n",
        "#print('dfSábadoNoche')\n",
        "#print(dfSábadoNoche)\n",
        "\n",
        "print('AverageSábadoNoche')\n",
        "AverageSábadoNoche = len(dfSábadoNoche)\n",
        "print(AverageSábadoNoche)\n",
        "\n",
        "\n",
        "#SATURDAY:\n",
        "dfDomingoMadrugada = df_new2.loc[(df_new2['Weekday']=='Sunday') & (df_new2['Hour']>=0) & (df_new2['Hour']<6), ['Date', 'Time', 'Volume', 'Weekday']]\n",
        "#print('dfDomingoMadrugada')\n",
        "#print(dfDomingoMadrugada)\n",
        "\n",
        "print('AverageDomingoMadrugada')\n",
        "AverageDomingoMadrugada = len(dfDomingoMadrugada)\n",
        "print(AverageDomingoMadrugada)\n",
        "\n",
        "dfDomingoMañana = df_new2.loc[(df_new2['Weekday']=='Sunday') & (df_new2['Hour']>=6) & (df_new2['Hour']<12), ['Date', 'Time', 'Volume', 'Weekday']]\n",
        "#print('dfDomingoMañana')\n",
        "#print(dfDomingoMañana)\n",
        "\n",
        "print('AverageDomingoMañana')\n",
        "AverageDomingoMañana = len(dfDomingoMañana)\n",
        "print(AverageDomingoMañana)\n",
        "\n",
        "dfDomingoTarde = df_new2.loc[(df_new2['Weekday']=='Sunday') & (df_new2['Hour']>=12) & (df_new2['Hour']<18), ['Date', 'Time', 'Volume', 'Weekday']]\n",
        "#print('dfDomingoTarde')\n",
        "#print(dfDomingoTarde)\n",
        "\n",
        "print('AverageDomingoTarde')\n",
        "AverageDomingoTarde = len(dfDomingoTarde)\n",
        "print(AverageDomingoTarde)\n",
        "\n",
        "dfDomingoNoche = df_new2.loc[(df_new2['Weekday']=='Sunday') & (df_new2['Hour']>=18) & (df_new2['Hour']<24), ['Date', 'Time', 'Volume', 'Weekday']]\n",
        "#print('dfDomingoNoche')\n",
        "#print(dfDomingoNoche)\n",
        "\n",
        "print('AverageDomingoNoche')\n",
        "AverageDomingoNoche = len(dfDomingoNoche)\n",
        "print(AverageDomingoNoche)\n",
        "\n",
        "columns = ['Day', 'Madrugada','Mañana', 'Tarde', 'Noche']\n",
        "Cuadro = pd.DataFrame(columns=columns)\n",
        "Cuadro = Cuadro.fillna(0) # with 0s rather than NaNs\n",
        "print('Cuadro')\n",
        "#print(Cuadro)\n",
        "\n",
        "Cuadro.loc['0'] = pd.Series({'Day': 'Lunes', 'Madrugada':AverageLunesMadrugada, 'Mañana':AverageLunesMañana, 'Tarde':AverageLunesTarde,\n",
        "          'Noche':AverageLunesNoche})\n",
        "Cuadro.loc['1'] = pd.Series({'Day':'Martes', 'Madrugada':AverageMartesMadrugada, 'Mañana':AverageMartesMañana, 'Tarde':AverageMartesTarde,\n",
        "          'Noche':AverageMartesNoche})\n",
        "Cuadro.loc['2'] = pd.Series({'Day':'Miércoles', 'Madrugada':AverageMiércolesMadrugada, 'Mañana':AverageMiércolesMañana, 'Tarde':AverageMiércolesTarde,\n",
        "          'Noche':AverageMiércolesNoche})\n",
        "Cuadro.loc['3'] = pd.Series({'Day':'Jueves', 'Madrugada':AverageJuevesMadrugada, 'Mañana':AverageJuevesMañana, 'Tarde':AverageJuevesTarde,\n",
        "          'Noche':AverageJuevesNoche})\n",
        "Cuadro.loc['4'] = pd.Series({'Day':'Viernes', 'Madrugada':AverageViernesMadrugada, 'Mañana':AverageViernesMañana, 'Tarde':AverageViernesTarde,\n",
        "          'Noche':AverageViernesNoche})\n",
        "Cuadro.loc['5'] = pd.Series({'Day':'Sábado', 'Madrugada':AverageSábadoMadrugada, 'Mañana':AverageSábadoMañana, 'Tarde':AverageSábadoTarde,\n",
        "          'Noche':AverageSábadoNoche})\n",
        "Cuadro.loc['6'] = pd.Series({'Day':'Domingo', 'Madrugada':AverageDomingoMadrugada, 'Mañana':AverageDomingoMañana, 'Tarde':AverageDomingoTarde,\n",
        "          'Noche':AverageDomingoNoche})\n",
        "print(Cuadro)\n",
        "\n",
        "\n",
        "df = Cuadro\n",
        "fig, ax = plt.subplots()\n",
        "ax.scatter(df['Day'], ['Madrugada']*7, s=20*df['Madrugada'])\n",
        "ax.scatter(df['Day'], ['Mañana']*7, s=20*df['Mañana'])\n",
        "ax.scatter(df['Day'], ['Tarde']*7, s=20*df['Tarde'])\n",
        "ax.scatter(df['Day'], ['Noche']*7, s=20*df['Noche'])\n",
        "plt.ylabel('Período del día')\n",
        "plt.xlabel('Día de la semana')\n",
        "plt.show()"
      ],
      "execution_count": 774,
      "outputs": [
        {
          "output_type": "stream",
          "text": [
            "(8, 19)\n",
            "   index       Date      Time   Destination  ... Jueves Viernes  Sábado Domingo\n",
            "0    143  5/12/2019  11:39 AM  MARLBORO, MA  ...      0       0       0       1\n",
            "1    145  5/12/2019  11:36 AM  MARLBORO, MA  ...      0       0       0       1\n",
            "2    147  5/12/2019  11:21 AM  MARLBORO, MA  ...      0       0       0       1\n",
            "3    148  5/12/2019  11:21 AM  MARLBORO, MA  ...      0       0       0       1\n",
            "4    149  5/12/2019  11:20 AM  MARLBORO, MA  ...      0       0       0       1\n",
            "5    150  5/12/2019  11:20 AM  MARLBORO, MA  ...      0       0       0       1\n",
            "6    151  5/12/2019  11:20 AM  MARLBORO, MA  ...      0       0       0       1\n",
            "7    158  5/12/2019  11:00 AM            --  ...      0       0       0       1\n",
            "\n",
            "[8 rows x 19 columns]\n",
            "(8, 11)\n",
            "   Lunes  Martes  Miércoles  Jueves  ...  Madrugada  Mañana  Tarde  Noche\n",
            "0      0       0          0       0  ...          0       1      0      0\n",
            "1      0       0          0       0  ...          0       1      0      0\n",
            "2      0       0          0       0  ...          0       1      0      0\n",
            "3      0       0          0       0  ...          0       1      0      0\n",
            "4      0       0          0       0  ...          0       1      0      0\n",
            "5      0       0          0       0  ...          0       1      0      0\n",
            "6      0       0          0       0  ...          0       1      0      0\n",
            "7      0       0          0       0  ...          0       1      0      0\n",
            "\n",
            "[8 rows x 11 columns]\n",
            "            index\n",
            "count    8.000000\n",
            "mean   148.875000\n",
            "std      4.517822\n",
            "min    143.000000\n",
            "25%    146.500000\n",
            "50%    148.500000\n",
            "75%    150.250000\n",
            "max    158.000000\n",
            "Weekday\n",
            "Sunday    8\n",
            "dtype: int64\n",
            "Madrugada\n",
            "0    8\n",
            "dtype: int64\n",
            "Mañana\n",
            "1    8\n",
            "dtype: int64\n",
            "Tarde\n",
            "0    8\n",
            "dtype: int64\n",
            "Noche\n",
            "0    8\n",
            "dtype: int64\n",
            "dfLunesMadrugada\n",
            "0\n",
            "AverageLunesMadrugada\n",
            "Series([], Name: Date, dtype: int64)\n",
            "0.0\n",
            "AverageLunesMañana\n",
            "0.0\n",
            "AverageLunesTarde\n",
            "0.0\n",
            "AverageLunesNoche\n",
            "0.0\n",
            "AverageMartesMadrugada\n",
            "0\n",
            "AverageMartesMañana\n",
            "0\n",
            "AverageMartesTarde\n",
            "0\n",
            "AverageMartesNoche\n",
            "0\n",
            "AverageMiércolesMadrugada\n",
            "0\n",
            "AverageMiércolesMañana\n",
            "0\n",
            "AverageMiércolesTarde\n",
            "0\n",
            "AverageMiércolesNoche\n",
            "0\n",
            "AverageJuevesMadrugada\n",
            "0\n",
            "AverageJuevesMañana\n",
            "0\n",
            "AverageJuevesTarde\n",
            "0\n",
            "AverageJuevesNoche\n",
            "0\n",
            "AverageViernesMadrugada\n",
            "0\n",
            "AverageViernesMañana\n",
            "0\n",
            "AverageViernesTarde\n",
            "0\n",
            "AverageViernesNoche\n",
            "0\n",
            "AverageSábadoMadrugada\n",
            "0\n",
            "AverageSábadoMañana\n",
            "0\n",
            "AverageSábadoTarde\n",
            "0\n",
            "AverageSábadoNoche\n",
            "0\n",
            "AverageDomingoMadrugada\n",
            "0\n",
            "AverageDomingoMañana\n",
            "8\n",
            "AverageDomingoTarde\n",
            "0\n",
            "AverageDomingoNoche\n",
            "0\n"
          ],
          "name": "stdout"
        },
        {
          "output_type": "stream",
          "text": [
            "/usr/local/lib/python3.6/dist-packages/pandas/core/indexing.py:1494: FutureWarning: \n",
            "Passing list-likes to .loc or [] with any missing label will raise\n",
            "KeyError in the future, you can use .reindex() as an alternative.\n",
            "\n",
            "See the documentation here:\n",
            "https://pandas.pydata.org/pandas-docs/stable/indexing.html#deprecate-loc-reindex-listlike\n",
            "  return self._getitem_tuple(key)\n"
          ],
          "name": "stderr"
        },
        {
          "output_type": "stream",
          "text": [
            "Cuadro\n",
            "         Day  Madrugada  Mañana  Tarde  Noche\n",
            "0      Lunes        0.0     0.0    0.0    0.0\n",
            "1     Martes        0.0     0.0    0.0    0.0\n",
            "2  Miércoles        0.0     0.0    0.0    0.0\n",
            "3     Jueves        0.0     0.0    0.0    0.0\n",
            "4    Viernes        0.0     0.0    0.0    0.0\n",
            "5     Sábado        0.0     0.0    0.0    0.0\n",
            "6    Domingo        0.0     8.0    0.0    0.0\n"
          ],
          "name": "stdout"
        },
        {
          "output_type": "display_data",
          "data": {
            "image/png": "[encoded data removed]",
            "text/plain": [
              "<Figure size 432x288 with 1 Axes>"
            ]
          },
          "metadata": {
            "tags": []
          }
        }
      ]
    }
  ]
}